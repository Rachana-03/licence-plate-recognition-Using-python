{
 "cells": [
  {
   "cell_type": "code",
   "execution_count": 1,
   "id": "ef549335",
   "metadata": {},
   "outputs": [],
   "source": [
    "#Install OpenCV and Pytesseract pip3 python package:\n",
    "\n",
    "import numpy as np\n",
    "import cv2\n",
    "from PIL import Image\n",
    "import pytesseract as tess"
   ]
  },
  {
   "cell_type": "code",
   "execution_count": 2,
   "id": "5c6b85de",
   "metadata": {},
   "outputs": [
    {
     "data": {
      "text/plain": [
       "'Now we will define three functions, to find the unnecessary contours that openCV may \\nidentify but it does not have probability of being a number plate.\\n'"
      ]
     },
     "execution_count": 2,
     "metadata": {},
     "output_type": "execute_result"
    }
   ],
   "source": [
    "\"\"\"Now we will define three functions, to find the unnecessary contours that openCV may \n",
    "identify but it does not have probability of being a number plate.\n",
    "\"\"\"\n"
   ]
  },
  {
   "cell_type": "code",
   "execution_count": 3,
   "id": "9d5ba42d",
   "metadata": {},
   "outputs": [],
   "source": [
    "#The first function to check the area range and width-height ratio:\n",
    "\n",
    "def ratioCheck(area, width, height):\n",
    "    ratio = float(width) / float(height)\n",
    "    if ratio < 1:\n",
    "        ratio = 1 / ratio\n",
    "    if (area < 1063.62 or area > 73862.5) or (ratio < 3 or ratio > 6):\n",
    "        return False\n",
    "    return True"
   ]
  },
  {
   "cell_type": "code",
   "execution_count": 4,
   "id": "a856ffdd",
   "metadata": {},
   "outputs": [],
   "source": [
    " #The second function to check average of image matrix\n",
    "\n",
    "def isMaxWhite(plate):\n",
    "    avg = np.mean(plate)\n",
    "    if(avg>=115):\n",
    "        return True\n",
    "    else:\n",
    "         return False"
   ]
  },
  {
   "cell_type": "code",
   "execution_count": 5,
   "id": "4714f07b",
   "metadata": {},
   "outputs": [],
   "source": [
    "#The third function to check the rotation of contours:\n",
    "\n",
    "def ratio_and_rotation(rect):\n",
    "    (x, y), (width, height), rect_angle = rect\n",
    "\n",
    "    if(width>height):\n",
    "        angle = -rect_angle\n",
    "    else:\n",
    "        angle = 90 + rect_angle\n",
    "\n",
    "    if angle>15:\n",
    "         return False\n",
    "\n",
    "    if height == 0 or width == 0:\n",
    "        return False\n",
    "\n",
    "    area = height*width\n",
    "    if not ratioCheck(area,width,height):\n",
    "        return False\n",
    "    else:\n",
    "        return True"
   ]
  },
  {
   "cell_type": "code",
   "execution_count": 6,
   "id": "4f88be11",
   "metadata": {},
   "outputs": [
    {
     "data": {
      "text/plain": [
       "'Now we will write a function to clean the identified number plate for preprocessing \\nbefore feeding to pytesseract:\\n'"
      ]
     },
     "execution_count": 6,
     "metadata": {},
     "output_type": "execute_result"
    }
   ],
   "source": [
    "\"\"\"Now we will write a function to clean the identified number plate for preprocessing \n",
    "before feeding to pytesseract:\n",
    "\"\"\""
   ]
  },
  {
   "cell_type": "code",
   "execution_count": 7,
   "id": "fba58a00",
   "metadata": {},
   "outputs": [],
   "source": [
    "def clean2_plate(plate):\n",
    "    gray_img = cv2.cvtColor(plate, cv2.COLOR_BGR2GRAY)\n",
    "\n",
    "    _, thresh = cv2.threshold(gray_img, 110, 255, cv2.THRESH_BINARY)\n",
    "    if cv2.waitKey(0) & 0xff == ord('q'):\n",
    "        pass\n",
    "    num_contours,hierarchy = cv2.findContours(thresh.copy(),cv2.RETR_EXTERNAL, cv2.CHAIN_APPROX_NONE)\n",
    "\n",
    "    if num_contours:\n",
    "        contour_area = [cv2.contourArea(c) for c in num_contours]\n",
    "        max_cntr_index = np.argmax(contour_area)\n",
    "\n",
    "        max_cnt = num_contours[max_cntr_index]\n",
    "        max_cntArea = contour_area[max_cntr_index]\n",
    "        x,y,w,h = cv2.boundingRect(max_cnt)\n",
    "\n",
    "        if not ratioCheck(max_cntArea,w,h):\n",
    "            return plate,None\n",
    "\n",
    "        final_img = thresh[y:y+h, x:x+w]\n",
    "        return final_img,[x,y,w,h]\n",
    "\n",
    "    else:\n",
    "        return plate, None"
   ]
  },
  {
   "cell_type": "code",
   "execution_count": 8,
   "id": "016b88d2",
   "metadata": {
    "scrolled": true
   },
   "outputs": [
    {
     "data": {
      "text/plain": [
       "'In this step, we will take an image input. We will perform Gaussian Blur, Sobel and morphological operations. \\nAfter we find contours in the image and loop through each contour to identify the number plate. We will then clean\\nthe image contour and feed it to pytesseract to recognize the number and characters.\\n'"
      ]
     },
     "execution_count": 8,
     "metadata": {},
     "output_type": "execute_result"
    }
   ],
   "source": [
    "\"\"\"In this step, we will take an image input. We will perform Gaussian Blur, Sobel and morphological operations. \n",
    "After we find contours in the image and loop through each contour to identify the number plate. We will then clean\n",
    "the image contour and feed it to pytesseract to recognize the number and characters.\n",
    "\"\"\""
   ]
  },
  {
   "cell_type": "code",
   "execution_count": 9,
   "id": "c8aab65a",
   "metadata": {},
   "outputs": [
    {
     "name": "stdout",
     "output_type": "stream",
     "text": [
      "Number  input image...\n",
      "Number  identified number plate...\n"
     ]
    }
   ],
   "source": [
    "img = cv2.imread(\"images/Cars150.png\")\n",
    "print(\"Number  input image...\",)\n",
    "cv2.imshow(\"input\",img)\n",
    "\n",
    "if cv2.waitKey(0) & 0xff == ord('q'):\n",
    "    pass\n",
    "img2 = cv2.GaussianBlur(img, (3,3), 0)\n",
    "img2 = cv2.cvtColor(img2, cv2.COLOR_BGR2GRAY)\n",
    "\n",
    "img2 = cv2.Sobel(img2,cv2.CV_8U,1,0,ksize=3)    \n",
    "_,img2 = cv2.threshold(img2,0,255,cv2.THRESH_BINARY+cv2.THRESH_OTSU)\n",
    "\n",
    "element = cv2.getStructuringElement(shape=cv2.MORPH_RECT, ksize=(17, 3))\n",
    "morph_img_threshold = img2.copy()\n",
    "cv2.morphologyEx(src=img2, op=cv2.MORPH_CLOSE, kernel=element, dst=morph_img_threshold)\n",
    "num_contours, hierarchy= cv2.findContours(morph_img_threshold,mode=cv2.RETR_EXTERNAL,method=cv2.CHAIN_APPROX_NONE)\n",
    "cv2.drawContours(img2, num_contours, -1, (0,255,0), 1)\n",
    "\n",
    "for i,cnt in enumerate(num_contours):\n",
    "    \n",
    "    min_rect = cv2.minAreaRect(cnt)\n",
    "\n",
    "    if ratio_and_rotation(min_rect):\n",
    "\n",
    "        x,y,w,h = cv2.boundingRect(cnt)\n",
    "        plate_img = img[y:y+h,x:x+w]\n",
    "        print(\"Number  identified number plate...\")\n",
    "        cv2.imshow(\"num plate image\",plate_img)\n",
    "        if cv2.waitKey(0) & 0xff == ord('q'):\n",
    "            pass"
   ]
  },
  {
   "cell_type": "code",
   "execution_count": 10,
   "id": "ee3c62a1",
   "metadata": {},
   "outputs": [
    {
     "name": "stdout",
     "output_type": "stream",
     "text": [
      "Number  Detected Plate Text :  DL8CX 4850\n",
      "\f",
      "\n"
     ]
    }
   ],
   "source": [
    "if(isMaxWhite(plate_img)):\n",
    "            clean_plate, rect = clean2_plate(plate_img)\n",
    "            if rect:\n",
    "                fg=0\n",
    "                x1,y1,w1,h1 = rect\n",
    "                x,y,w,h = x+x1,y+y1,w1,h1\n",
    "                # cv2.imwrite(\"clena.png\",clean_plate)\n",
    "                plate_im = Image.fromarray(clean_plate)\n",
    "                text = tess.image_to_string(plate_im, lang='eng')\n",
    "                print(\"Number  Detected Plate Text : \",text)"
   ]
  },
  {
   "cell_type": "markdown",
   "id": "d36922a0",
   "metadata": {},
   "source": [
    "# \"\"\"it will use the characters of Number plate and fetch the owners information using RTO API’s .\"\"\""
   ]
  },
  {
   "cell_type": "code",
   "execution_count": 11,
   "id": "84cd36c4",
   "metadata": {},
   "outputs": [],
   "source": [
    "import requests\n",
    "import xmltodict\n",
    "import json"
   ]
  },
  {
   "cell_type": "code",
   "execution_count": 12,
   "id": "c730d40f",
   "metadata": {},
   "outputs": [],
   "source": [
    "def get_vehicle_info(plate_number):\n",
    "    r = requests.get(\"http://www.regcheck.org.uk/api/reg.asmx/CheckIndia?RegistrationNumber={0}&username=mnnb321\".format(str(plate_number)))\n",
    "    data = xmltodict.parse(r.content)\n",
    "    jdata = json.dumps(data)\n",
    "    df = json.loads(jdata)\n",
    "    df1 = json.loads(df['Vehicle']['vehicleJson'])\n",
    "    return df1"
   ]
  },
  {
   "cell_type": "code",
   "execution_count": 16,
   "id": "fbf29a10",
   "metadata": {},
   "outputs": [],
   "source": [
    "x=\"DL8CX4850\""
   ]
  },
  {
   "cell_type": "code",
   "execution_count": 17,
   "id": "7dea62cb",
   "metadata": {},
   "outputs": [
    {
     "name": "stdout",
     "output_type": "stream",
     "text": [
      "Requirement already satisfied: xmltodict in /home/soumya/anaconda3/lib/python3.8/site-packages (0.12.0)\r\n"
     ]
    }
   ],
   "source": [
    "!pip install xmltodict"
   ]
  },
  {
   "cell_type": "code",
   "execution_count": 18,
   "id": "93a470e7",
   "metadata": {},
   "outputs": [
    {
     "data": {
      "text/plain": [
       "{'Description': 'SKODA YETI 2.0 AMBIENTE TDI CR MT (4X2)',\n",
       " 'RegistrationYear': '2012',\n",
       " 'CarMake': {'CurrentTextValue': 'SKODA'},\n",
       " 'CarModel': {'CurrentTextValue': 'YETI'},\n",
       " 'EngineSize': {'CurrentTextValue': '1968'},\n",
       " 'MakeDescription': {'CurrentTextValue': 'SKODA'},\n",
       " 'ModelDescription': {'CurrentTextValue': 'YETI'},\n",
       " 'VechileIdentificationNumber': 'TMBKCL5L8BA702259',\n",
       " 'NumberOfSeats': {'CurrentTextValue': '5'},\n",
       " 'Colour': '',\n",
       " 'EngineNumber': 'CLC014957',\n",
       " 'FuelType': {'CurrentTextValue': 'Diesel'},\n",
       " 'RegistrationDate': '12/03/2012',\n",
       " 'Location': 'DY.DIR.ZONAL OFFICE,DELHI NORTH WEST,WAZIRPUR',\n",
       " 'ImageUrl': 'http://in.carregistrationapi.com/image.aspx/@U0tPREEgWUVUSSAyLjAgQU1CSUVOVEUgVERJIENSIE1UICg0WDIp'}"
      ]
     },
     "execution_count": 18,
     "metadata": {},
     "output_type": "execute_result"
    }
   ],
   "source": [
    "get_vehicle_info(x)"
   ]
  },
  {
   "cell_type": "code",
   "execution_count": null,
   "id": "8835d486",
   "metadata": {},
   "outputs": [],
   "source": []
  }
 ],
 "metadata": {
  "kernelspec": {
   "display_name": "Python 3",
   "language": "python",
   "name": "python3"
  },
  "language_info": {
   "codemirror_mode": {
    "name": "ipython",
    "version": 3
   },
   "file_extension": ".py",
   "mimetype": "text/x-python",
   "name": "python",
   "nbconvert_exporter": "python",
   "pygments_lexer": "ipython3",
   "version": "3.8.8"
  }
 },
 "nbformat": 4,
 "nbformat_minor": 5
}
